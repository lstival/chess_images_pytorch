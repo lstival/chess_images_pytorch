{
 "cells": [
  {
   "cell_type": "code",
   "execution_count": 2,
   "id": "169c37d5",
   "metadata": {},
   "outputs": [],
   "source": [
    "#Import librarys\n",
    "import os\n",
    "\n",
    "import torch\n",
    "from torch.utils.data import DataLoader\n",
    "\n",
    "from torchvision import datasets\n",
    "from torchvision.io import read_image\n",
    "from torchvision.transforms import ToTensor\n",
    "\n",
    "import torchvision.transforms as transforms\n",
    "\n",
    "from torch.utils.data import Dataset\n",
    "\n",
    "import numpy as np"
   ]
  },
  {
   "cell_type": "code",
   "execution_count": 3,
   "id": "72c111c7",
   "metadata": {},
   "outputs": [],
   "source": [
    "#Locale where the imagens stay\n",
    "image_path = 'images/'\n",
    "\n",
    "#Getting the list of classes (considering each fold at \"image_path\" like a class)\n",
    "list_classes = [f for f in os.listdir(image_path)]\n",
    "\n",
    "num_classes = len(list_classes)\n",
    "\n",
    "img_size = 224"
   ]
  },
  {
   "cell_type": "code",
   "execution_count": 4,
   "id": "014b8117",
   "metadata": {},
   "outputs": [],
   "source": [
    "# def load_split_train_test(datadir, valid_size = .2):\n",
    "#     train_transforms = transforms.Compose([transforms.Resize(64),\n",
    "#                                        transforms.ToTensor(),\n",
    "#                                        ])\n",
    "#     test_transforms = transforms.Compose([transforms.Resize(64),\n",
    "#                                       transforms.ToTensor(),\n",
    "#                                       ])\n",
    "#     train_data = datasets.ImageFolder(datadir,       \n",
    "#                     transform=train_transforms)\n",
    "#     test_data = datasets.ImageFolder(datadir,\n",
    "#                     transform=test_transforms)\n",
    "#     num_train = len(train_data)\n",
    "#     indices = list(range(num_train))\n",
    "#     split = int(np.floor(valid_size * num_train))\n",
    "#     np.random.shuffle(indices)\n",
    "#     from torch.utils.data.sampler import SubsetRandomSampler\n",
    "#     train_idx, test_idx = indices[split:], indices[:split]\n",
    "#     train_sampler = SubsetRandomSampler(train_idx)\n",
    "#     test_sampler = SubsetRandomSampler(test_idx)\n",
    "#     trainloader = torch.utils.data.DataLoader(train_data,\n",
    "#                    sampler=train_sampler, batch_size=64)\n",
    "#     testloader = torch.utils.data.DataLoader(test_data,\n",
    "#                    sampler=test_sampler, batch_size=64)\n",
    "    \n",
    "#     return trainloader, testloader\n",
    "\n",
    "# trainloader, testloader = load_split_train_test(image_path, .2)\n",
    "# print(trainloader.dataset.classes)"
   ]
  },
  {
   "cell_type": "code",
   "execution_count": 5,
   "id": "e0b8a61b",
   "metadata": {},
   "outputs": [],
   "source": [
    "#Creating the class rensposable to load the imagens\n",
    "class ImageDataset(Dataset):\n",
    "    def __init__(self, list_classes, img_dir, transform=None, target_transform=None):\n",
    "        \"\"\"\n",
    "        Define where the images stay, the classes of imagens and transformations that will be aplied.\n",
    "        \"\"\"\n",
    "        #Creating the class variables\n",
    "        self.list_classes = list_classes\n",
    "        self.img_dir = img_dir\n",
    "        self.transform = transform\n",
    "        self.target_transform = target_transform\n",
    "        \n",
    "        self.imagens = []\n",
    "        \n",
    "        #Loop for each class\n",
    "        for select_class in self.list_classes:\n",
    "            #Path with original fold and class\n",
    "            images_in_fold = os.listdir(f\"{self.img_dir}/{select_class}/\")\n",
    "            #Add at the list \"class name\"_\"image name\"\n",
    "            [self.imagens.append(f\"{select_class}_{image}\") for image in images_in_fold]\n",
    "\n",
    "        \n",
    "    def __len__(self):\n",
    "        \"\"\"\n",
    "        Return the number of images (dataset size), this number are utilized\n",
    "        in DataLoader to shuffle the data (to how how numbers can be selected).\n",
    "        \"\"\"\n",
    "        return len(self.imagens)\n",
    "    \n",
    "    def __getitem__(self, idx):\n",
    "        \"\"\"\n",
    "        Return a image and yout label.\n",
    "        \"\"\"\n",
    "        select_sample = self.imagens[idx]\n",
    "        print('idx', idx)\n",
    "        select_class, image_path = select_sample.split('_')\n",
    "        class_path = f\"{self.img_dir}/{select_class}/\"\n",
    "        print('select_class, image_path ',select_class, image_path)\n",
    "        \n",
    "        image = read_image(f\"{class_path}{image_path}\")\n",
    "        label = list_classes.index(select_class)\n",
    "        \n",
    "        if self.transform:\n",
    "            #If the image hasn't the 3 channel, are them are create\n",
    "            try:\n",
    "                image = self.transform(image)\n",
    "            except:\n",
    "                print(f'Image Original Shape {image.shape}')\n",
    "                image = np.stack([image, image, image])\n",
    "                print(f'New Shape {image.shape}')\n",
    "                image = torch.from_numpy(image)\n",
    "                print(f'Converted in Tensor {image.shape}')\n",
    "                image = self.transform(image)\n",
    "                \n",
    "        \n",
    "        if self.target_transform:\n",
    "            label = self.target_transform(label)\n",
    "        \n",
    "        return image, label"
   ]
  },
  {
   "cell_type": "code",
   "execution_count": 6,
   "id": "fe2d1336",
   "metadata": {},
   "outputs": [],
   "source": [
    "#Data Transfor (Normalize the image values)\n",
    "transform = transforms.Compose(\n",
    "    [transforms.ToPILImage(),\n",
    "     transforms.Resize((img_size, img_size)),\n",
    "     transforms.ToTensor(),\n",
    "     transforms.Normalize((0.5), (0.5))])"
   ]
  },
  {
   "cell_type": "code",
   "execution_count": 7,
   "id": "52798fb2",
   "metadata": {},
   "outputs": [],
   "source": [
    "#Instancin the dataset (giving the fold with images and list of classes)\n",
    "training_dataset = ImageDataset(list_classes, image_path)"
   ]
  },
  {
   "cell_type": "code",
   "execution_count": 8,
   "id": "9144d3cd",
   "metadata": {},
   "outputs": [],
   "source": [
    "#Testing the return of size the dataset\n",
    "assert type(training_dataset.__len__()) == int, \"The len must be a integer\""
   ]
  },
  {
   "cell_type": "code",
   "execution_count": 9,
   "id": "df0c90c4",
   "metadata": {},
   "outputs": [
    {
     "name": "stdout",
     "output_type": "stream",
     "text": [
      "idx 1\n",
      "select_class, image_path  bishopImages 00000002.jpg\n"
     ]
    }
   ],
   "source": [
    "#Testing the return of datalaoder (two itens)\n",
    "assert len(training_dataset.__getitem__(1)) == 2, \"The return must by have 2 itens\""
   ]
  },
  {
   "cell_type": "code",
   "execution_count": 10,
   "id": "fb960188",
   "metadata": {},
   "outputs": [],
   "source": [
    "# transform(read_image(\"images/bishopImages/00000206.jpg\"))"
   ]
  },
  {
   "cell_type": "markdown",
   "id": "44250dae",
   "metadata": {},
   "source": [
    "## Creating a DataLoader"
   ]
  },
  {
   "cell_type": "code",
   "execution_count": 11,
   "id": "7f293367",
   "metadata": {},
   "outputs": [],
   "source": [
    "train_dataloader = DataLoader(training_dataset, batch_size=64, shuffle=True)"
   ]
  },
  {
   "cell_type": "code",
   "execution_count": 12,
   "id": "e4fc500b",
   "metadata": {},
   "outputs": [
    {
     "name": "stdout",
     "output_type": "stream",
     "text": [
      "idx 314\n",
      "select_class, image_path  KnightImages 00000302.jpg\n",
      "idx 337\n",
      "select_class, image_path  KnightImages 00000395.jpg\n",
      "idx 205\n",
      "select_class, image_path  KnightImages 00000057.jpg\n",
      "idx 275\n",
      "select_class, image_path  KnightImages 00000212.jpg\n",
      "idx 183\n",
      "select_class, image_path  KnightImages 00000024.jpg\n",
      "idx 597\n",
      "select_class, image_path  RookImage 00000092.jpg\n",
      "idx 300\n",
      "select_class, image_path  KnightImages 00000267.jpg\n",
      "idx 225\n",
      "select_class, image_path  KnightImages 00000089.jpg\n",
      "idx 451\n",
      "select_class, image_path  Queenimages 00000052.jpg\n",
      "idx 656\n",
      "select_class, image_path  RookImage 00000236.jpg\n",
      "idx 338\n",
      "select_class, image_path  PawnImages 00000001.jpg\n",
      "idx 668\n",
      "select_class, image_path  RookImage 00000263.jpg\n",
      "idx 311\n",
      "select_class, image_path  KnightImages 00000299.jpg\n",
      "idx 190\n",
      "select_class, image_path  KnightImages 00000033.jpg\n",
      "idx 347\n",
      "select_class, image_path  PawnImages 00000011.jpg\n",
      "idx 124\n",
      "select_class, image_path  bishopImages 00000188.jpg\n",
      "idx 548\n",
      "select_class, image_path  RookImage 00000016.jpg\n",
      "idx 179\n",
      "select_class, image_path  KnightImages 00000018.jpg\n",
      "idx 610\n",
      "select_class, image_path  RookImage 00000118.jpg\n",
      "idx 105\n",
      "select_class, image_path  bishopImages 00000156.jpg\n",
      "idx 103\n",
      "select_class, image_path  bishopImages 00000152.jpg\n",
      "idx 480\n",
      "select_class, image_path  Queenimages 00000119.jpg\n",
      "idx 148\n",
      "select_class, image_path  bishopImages 00000245.jpg\n",
      "idx 499\n",
      "select_class, image_path  Queenimages 00000154.jpg\n",
      "idx 664\n",
      "select_class, image_path  RookImage 00000255.jpg\n",
      "idx 426\n",
      "select_class, image_path  Queenimages 00000008.jpg\n",
      "idx 634\n",
      "select_class, image_path  RookImage 00000166.jpg\n",
      "idx 33\n",
      "select_class, image_path  bishopImages 00000043.jpg\n",
      "idx 215\n",
      "select_class, image_path  KnightImages 00000070.jpg\n",
      "idx 295\n",
      "select_class, image_path  KnightImages 00000258.jpg\n",
      "idx 468\n",
      "select_class, image_path  Queenimages 00000088.jpg\n",
      "idx 21\n",
      "select_class, image_path  bishopImages 00000026.jpg\n",
      "idx 381\n",
      "select_class, image_path  PawnImages 00000066.jpg\n",
      "idx 43\n",
      "select_class, image_path  bishopImages 00000057.jpg\n",
      "idx 640\n",
      "select_class, image_path  RookImage 00000191.jpg\n",
      "idx 291\n",
      "select_class, image_path  KnightImages 00000251.jpg\n",
      "idx 617\n",
      "select_class, image_path  RookImage 00000133.jpg\n",
      "idx 554\n",
      "select_class, image_path  RookImage 00000025.jpg\n",
      "idx 239\n",
      "select_class, image_path  KnightImages 00000110.jpg\n",
      "idx 284\n",
      "select_class, image_path  KnightImages 00000239.jpg\n",
      "idx 312\n",
      "select_class, image_path  KnightImages 00000300.jpg\n",
      "idx 552\n",
      "select_class, image_path  RookImage 00000022.jpg\n",
      "idx 111\n",
      "select_class, image_path  bishopImages 00000166.jpg\n",
      "idx 604\n",
      "select_class, image_path  RookImage 00000108.jpg\n",
      "idx 343\n",
      "select_class, image_path  PawnImages 00000006.jpg\n",
      "idx 672\n",
      "select_class, image_path  RookImage 00000276.jpg\n",
      "idx 66\n",
      "select_class, image_path  bishopImages 00000092.jpg\n",
      "idx 288\n",
      "select_class, image_path  KnightImages 00000247.jpg\n",
      "idx 134\n",
      "select_class, image_path  bishopImages 00000210.jpg\n",
      "idx 118\n",
      "select_class, image_path  bishopImages 00000177.jpg\n",
      "idx 348\n",
      "select_class, image_path  PawnImages 00000012.jpg\n",
      "idx 247\n",
      "select_class, image_path  KnightImages 00000134.jpg\n",
      "idx 592\n",
      "select_class, image_path  RookImage 00000084.jpg\n",
      "idx 533\n",
      "select_class, image_path  Queenimages 00000280.jpg\n",
      "idx 89\n",
      "select_class, image_path  bishopImages 00000132.jpg\n",
      "idx 13\n",
      "select_class, image_path  bishopImages 00000017.jpg\n",
      "idx 490\n",
      "select_class, image_path  Queenimages 00000133.jpg\n",
      "idx 386\n",
      "select_class, image_path  PawnImages 00000083.jpg\n",
      "idx 206\n",
      "select_class, image_path  KnightImages 00000058.jpg\n",
      "idx 160\n",
      "select_class, image_path  bishopImages 00000283.jpg\n",
      "idx 86\n",
      "select_class, image_path  bishopImages 00000127.jpg\n",
      "idx 61\n",
      "select_class, image_path  bishopImages 00000086.jpg\n",
      "idx 140\n",
      "select_class, image_path  bishopImages 00000222.jpg\n",
      "idx 518\n",
      "select_class, image_path  Queenimages 00000213.jpg\n"
     ]
    },
    {
     "ename": "RuntimeError",
     "evalue": "stack expects each tensor to be equal size, but got [4, 600, 600] at entry 0 and [3, 1024, 698] at entry 1",
     "output_type": "error",
     "traceback": [
      "\u001b[1;31m---------------------------------------------------------------------------\u001b[0m",
      "\u001b[1;31mRuntimeError\u001b[0m                              Traceback (most recent call last)",
      "\u001b[1;32m~\\AppData\\Local\\Temp/ipykernel_2120/2253958322.py\u001b[0m in \u001b[0;36m<module>\u001b[1;34m\u001b[0m\n\u001b[1;32m----> 1\u001b[1;33m \u001b[0mtrain_features\u001b[0m\u001b[1;33m,\u001b[0m \u001b[0mtrain_labels\u001b[0m \u001b[1;33m=\u001b[0m \u001b[0mnext\u001b[0m\u001b[1;33m(\u001b[0m\u001b[0miter\u001b[0m\u001b[1;33m(\u001b[0m\u001b[0mtrain_dataloader\u001b[0m\u001b[1;33m)\u001b[0m\u001b[1;33m)\u001b[0m\u001b[1;33m\u001b[0m\u001b[1;33m\u001b[0m\u001b[0m\n\u001b[0m",
      "\u001b[1;32mF:\\stiva\\anaconda3\\lib\\site-packages\\torch\\utils\\data\\dataloader.py\u001b[0m in \u001b[0;36m__next__\u001b[1;34m(self)\u001b[0m\n\u001b[0;32m    519\u001b[0m             \u001b[1;32mif\u001b[0m \u001b[0mself\u001b[0m\u001b[1;33m.\u001b[0m\u001b[0m_sampler_iter\u001b[0m \u001b[1;32mis\u001b[0m \u001b[1;32mNone\u001b[0m\u001b[1;33m:\u001b[0m\u001b[1;33m\u001b[0m\u001b[1;33m\u001b[0m\u001b[0m\n\u001b[0;32m    520\u001b[0m                 \u001b[0mself\u001b[0m\u001b[1;33m.\u001b[0m\u001b[0m_reset\u001b[0m\u001b[1;33m(\u001b[0m\u001b[1;33m)\u001b[0m\u001b[1;33m\u001b[0m\u001b[1;33m\u001b[0m\u001b[0m\n\u001b[1;32m--> 521\u001b[1;33m             \u001b[0mdata\u001b[0m \u001b[1;33m=\u001b[0m \u001b[0mself\u001b[0m\u001b[1;33m.\u001b[0m\u001b[0m_next_data\u001b[0m\u001b[1;33m(\u001b[0m\u001b[1;33m)\u001b[0m\u001b[1;33m\u001b[0m\u001b[1;33m\u001b[0m\u001b[0m\n\u001b[0m\u001b[0;32m    522\u001b[0m             \u001b[0mself\u001b[0m\u001b[1;33m.\u001b[0m\u001b[0m_num_yielded\u001b[0m \u001b[1;33m+=\u001b[0m \u001b[1;36m1\u001b[0m\u001b[1;33m\u001b[0m\u001b[1;33m\u001b[0m\u001b[0m\n\u001b[0;32m    523\u001b[0m             \u001b[1;32mif\u001b[0m \u001b[0mself\u001b[0m\u001b[1;33m.\u001b[0m\u001b[0m_dataset_kind\u001b[0m \u001b[1;33m==\u001b[0m \u001b[0m_DatasetKind\u001b[0m\u001b[1;33m.\u001b[0m\u001b[0mIterable\u001b[0m \u001b[1;32mand\u001b[0m\u001b[0;31m \u001b[0m\u001b[0;31m\\\u001b[0m\u001b[1;33m\u001b[0m\u001b[1;33m\u001b[0m\u001b[0m\n",
      "\u001b[1;32mF:\\stiva\\anaconda3\\lib\\site-packages\\torch\\utils\\data\\dataloader.py\u001b[0m in \u001b[0;36m_next_data\u001b[1;34m(self)\u001b[0m\n\u001b[0;32m    559\u001b[0m     \u001b[1;32mdef\u001b[0m \u001b[0m_next_data\u001b[0m\u001b[1;33m(\u001b[0m\u001b[0mself\u001b[0m\u001b[1;33m)\u001b[0m\u001b[1;33m:\u001b[0m\u001b[1;33m\u001b[0m\u001b[1;33m\u001b[0m\u001b[0m\n\u001b[0;32m    560\u001b[0m         \u001b[0mindex\u001b[0m \u001b[1;33m=\u001b[0m \u001b[0mself\u001b[0m\u001b[1;33m.\u001b[0m\u001b[0m_next_index\u001b[0m\u001b[1;33m(\u001b[0m\u001b[1;33m)\u001b[0m  \u001b[1;31m# may raise StopIteration\u001b[0m\u001b[1;33m\u001b[0m\u001b[1;33m\u001b[0m\u001b[0m\n\u001b[1;32m--> 561\u001b[1;33m         \u001b[0mdata\u001b[0m \u001b[1;33m=\u001b[0m \u001b[0mself\u001b[0m\u001b[1;33m.\u001b[0m\u001b[0m_dataset_fetcher\u001b[0m\u001b[1;33m.\u001b[0m\u001b[0mfetch\u001b[0m\u001b[1;33m(\u001b[0m\u001b[0mindex\u001b[0m\u001b[1;33m)\u001b[0m  \u001b[1;31m# may raise StopIteration\u001b[0m\u001b[1;33m\u001b[0m\u001b[1;33m\u001b[0m\u001b[0m\n\u001b[0m\u001b[0;32m    562\u001b[0m         \u001b[1;32mif\u001b[0m \u001b[0mself\u001b[0m\u001b[1;33m.\u001b[0m\u001b[0m_pin_memory\u001b[0m\u001b[1;33m:\u001b[0m\u001b[1;33m\u001b[0m\u001b[1;33m\u001b[0m\u001b[0m\n\u001b[0;32m    563\u001b[0m             \u001b[0mdata\u001b[0m \u001b[1;33m=\u001b[0m \u001b[0m_utils\u001b[0m\u001b[1;33m.\u001b[0m\u001b[0mpin_memory\u001b[0m\u001b[1;33m.\u001b[0m\u001b[0mpin_memory\u001b[0m\u001b[1;33m(\u001b[0m\u001b[0mdata\u001b[0m\u001b[1;33m)\u001b[0m\u001b[1;33m\u001b[0m\u001b[1;33m\u001b[0m\u001b[0m\n",
      "\u001b[1;32mF:\\stiva\\anaconda3\\lib\\site-packages\\torch\\utils\\data\\_utils\\fetch.py\u001b[0m in \u001b[0;36mfetch\u001b[1;34m(self, possibly_batched_index)\u001b[0m\n\u001b[0;32m     50\u001b[0m         \u001b[1;32melse\u001b[0m\u001b[1;33m:\u001b[0m\u001b[1;33m\u001b[0m\u001b[1;33m\u001b[0m\u001b[0m\n\u001b[0;32m     51\u001b[0m             \u001b[0mdata\u001b[0m \u001b[1;33m=\u001b[0m \u001b[0mself\u001b[0m\u001b[1;33m.\u001b[0m\u001b[0mdataset\u001b[0m\u001b[1;33m[\u001b[0m\u001b[0mpossibly_batched_index\u001b[0m\u001b[1;33m]\u001b[0m\u001b[1;33m\u001b[0m\u001b[1;33m\u001b[0m\u001b[0m\n\u001b[1;32m---> 52\u001b[1;33m         \u001b[1;32mreturn\u001b[0m \u001b[0mself\u001b[0m\u001b[1;33m.\u001b[0m\u001b[0mcollate_fn\u001b[0m\u001b[1;33m(\u001b[0m\u001b[0mdata\u001b[0m\u001b[1;33m)\u001b[0m\u001b[1;33m\u001b[0m\u001b[1;33m\u001b[0m\u001b[0m\n\u001b[0m",
      "\u001b[1;32mF:\\stiva\\anaconda3\\lib\\site-packages\\torch\\utils\\data\\_utils\\collate.py\u001b[0m in \u001b[0;36mdefault_collate\u001b[1;34m(batch)\u001b[0m\n\u001b[0;32m     82\u001b[0m             \u001b[1;32mraise\u001b[0m \u001b[0mRuntimeError\u001b[0m\u001b[1;33m(\u001b[0m\u001b[1;34m'each element in list of batch should be of equal size'\u001b[0m\u001b[1;33m)\u001b[0m\u001b[1;33m\u001b[0m\u001b[1;33m\u001b[0m\u001b[0m\n\u001b[0;32m     83\u001b[0m         \u001b[0mtransposed\u001b[0m \u001b[1;33m=\u001b[0m \u001b[0mzip\u001b[0m\u001b[1;33m(\u001b[0m\u001b[1;33m*\u001b[0m\u001b[0mbatch\u001b[0m\u001b[1;33m)\u001b[0m\u001b[1;33m\u001b[0m\u001b[1;33m\u001b[0m\u001b[0m\n\u001b[1;32m---> 84\u001b[1;33m         \u001b[1;32mreturn\u001b[0m \u001b[1;33m[\u001b[0m\u001b[0mdefault_collate\u001b[0m\u001b[1;33m(\u001b[0m\u001b[0msamples\u001b[0m\u001b[1;33m)\u001b[0m \u001b[1;32mfor\u001b[0m \u001b[0msamples\u001b[0m \u001b[1;32min\u001b[0m \u001b[0mtransposed\u001b[0m\u001b[1;33m]\u001b[0m\u001b[1;33m\u001b[0m\u001b[1;33m\u001b[0m\u001b[0m\n\u001b[0m\u001b[0;32m     85\u001b[0m \u001b[1;33m\u001b[0m\u001b[0m\n\u001b[0;32m     86\u001b[0m     \u001b[1;32mraise\u001b[0m \u001b[0mTypeError\u001b[0m\u001b[1;33m(\u001b[0m\u001b[0mdefault_collate_err_msg_format\u001b[0m\u001b[1;33m.\u001b[0m\u001b[0mformat\u001b[0m\u001b[1;33m(\u001b[0m\u001b[0melem_type\u001b[0m\u001b[1;33m)\u001b[0m\u001b[1;33m)\u001b[0m\u001b[1;33m\u001b[0m\u001b[1;33m\u001b[0m\u001b[0m\n",
      "\u001b[1;32mF:\\stiva\\anaconda3\\lib\\site-packages\\torch\\utils\\data\\_utils\\collate.py\u001b[0m in \u001b[0;36m<listcomp>\u001b[1;34m(.0)\u001b[0m\n\u001b[0;32m     82\u001b[0m             \u001b[1;32mraise\u001b[0m \u001b[0mRuntimeError\u001b[0m\u001b[1;33m(\u001b[0m\u001b[1;34m'each element in list of batch should be of equal size'\u001b[0m\u001b[1;33m)\u001b[0m\u001b[1;33m\u001b[0m\u001b[1;33m\u001b[0m\u001b[0m\n\u001b[0;32m     83\u001b[0m         \u001b[0mtransposed\u001b[0m \u001b[1;33m=\u001b[0m \u001b[0mzip\u001b[0m\u001b[1;33m(\u001b[0m\u001b[1;33m*\u001b[0m\u001b[0mbatch\u001b[0m\u001b[1;33m)\u001b[0m\u001b[1;33m\u001b[0m\u001b[1;33m\u001b[0m\u001b[0m\n\u001b[1;32m---> 84\u001b[1;33m         \u001b[1;32mreturn\u001b[0m \u001b[1;33m[\u001b[0m\u001b[0mdefault_collate\u001b[0m\u001b[1;33m(\u001b[0m\u001b[0msamples\u001b[0m\u001b[1;33m)\u001b[0m \u001b[1;32mfor\u001b[0m \u001b[0msamples\u001b[0m \u001b[1;32min\u001b[0m \u001b[0mtransposed\u001b[0m\u001b[1;33m]\u001b[0m\u001b[1;33m\u001b[0m\u001b[1;33m\u001b[0m\u001b[0m\n\u001b[0m\u001b[0;32m     85\u001b[0m \u001b[1;33m\u001b[0m\u001b[0m\n\u001b[0;32m     86\u001b[0m     \u001b[1;32mraise\u001b[0m \u001b[0mTypeError\u001b[0m\u001b[1;33m(\u001b[0m\u001b[0mdefault_collate_err_msg_format\u001b[0m\u001b[1;33m.\u001b[0m\u001b[0mformat\u001b[0m\u001b[1;33m(\u001b[0m\u001b[0melem_type\u001b[0m\u001b[1;33m)\u001b[0m\u001b[1;33m)\u001b[0m\u001b[1;33m\u001b[0m\u001b[1;33m\u001b[0m\u001b[0m\n",
      "\u001b[1;32mF:\\stiva\\anaconda3\\lib\\site-packages\\torch\\utils\\data\\_utils\\collate.py\u001b[0m in \u001b[0;36mdefault_collate\u001b[1;34m(batch)\u001b[0m\n\u001b[0;32m     54\u001b[0m             \u001b[0mstorage\u001b[0m \u001b[1;33m=\u001b[0m \u001b[0melem\u001b[0m\u001b[1;33m.\u001b[0m\u001b[0mstorage\u001b[0m\u001b[1;33m(\u001b[0m\u001b[1;33m)\u001b[0m\u001b[1;33m.\u001b[0m\u001b[0m_new_shared\u001b[0m\u001b[1;33m(\u001b[0m\u001b[0mnumel\u001b[0m\u001b[1;33m)\u001b[0m\u001b[1;33m\u001b[0m\u001b[1;33m\u001b[0m\u001b[0m\n\u001b[0;32m     55\u001b[0m             \u001b[0mout\u001b[0m \u001b[1;33m=\u001b[0m \u001b[0melem\u001b[0m\u001b[1;33m.\u001b[0m\u001b[0mnew\u001b[0m\u001b[1;33m(\u001b[0m\u001b[0mstorage\u001b[0m\u001b[1;33m)\u001b[0m\u001b[1;33m\u001b[0m\u001b[1;33m\u001b[0m\u001b[0m\n\u001b[1;32m---> 56\u001b[1;33m         \u001b[1;32mreturn\u001b[0m \u001b[0mtorch\u001b[0m\u001b[1;33m.\u001b[0m\u001b[0mstack\u001b[0m\u001b[1;33m(\u001b[0m\u001b[0mbatch\u001b[0m\u001b[1;33m,\u001b[0m \u001b[1;36m0\u001b[0m\u001b[1;33m,\u001b[0m \u001b[0mout\u001b[0m\u001b[1;33m=\u001b[0m\u001b[0mout\u001b[0m\u001b[1;33m)\u001b[0m\u001b[1;33m\u001b[0m\u001b[1;33m\u001b[0m\u001b[0m\n\u001b[0m\u001b[0;32m     57\u001b[0m     \u001b[1;32melif\u001b[0m \u001b[0melem_type\u001b[0m\u001b[1;33m.\u001b[0m\u001b[0m__module__\u001b[0m \u001b[1;33m==\u001b[0m \u001b[1;34m'numpy'\u001b[0m \u001b[1;32mand\u001b[0m \u001b[0melem_type\u001b[0m\u001b[1;33m.\u001b[0m\u001b[0m__name__\u001b[0m \u001b[1;33m!=\u001b[0m \u001b[1;34m'str_'\u001b[0m\u001b[0;31m \u001b[0m\u001b[0;31m\\\u001b[0m\u001b[1;33m\u001b[0m\u001b[1;33m\u001b[0m\u001b[0m\n\u001b[0;32m     58\u001b[0m             \u001b[1;32mand\u001b[0m \u001b[0melem_type\u001b[0m\u001b[1;33m.\u001b[0m\u001b[0m__name__\u001b[0m \u001b[1;33m!=\u001b[0m \u001b[1;34m'string_'\u001b[0m\u001b[1;33m:\u001b[0m\u001b[1;33m\u001b[0m\u001b[1;33m\u001b[0m\u001b[0m\n",
      "\u001b[1;31mRuntimeError\u001b[0m: stack expects each tensor to be equal size, but got [4, 600, 600] at entry 0 and [3, 1024, 698] at entry 1"
     ]
    }
   ],
   "source": [
    "train_features, train_labels = next(iter(train_dataloader))"
   ]
  },
  {
   "cell_type": "code",
   "execution_count": null,
   "id": "a7caa390",
   "metadata": {},
   "outputs": [],
   "source": []
  },
  {
   "cell_type": "markdown",
   "id": "a7c8d281",
   "metadata": {},
   "source": [
    "## Creating the Network"
   ]
  },
  {
   "cell_type": "code",
   "execution_count": null,
   "id": "d0110c63",
   "metadata": {},
   "outputs": [],
   "source": [
    "import torch.nn as nn\n",
    "import torch.nn.functional as F"
   ]
  },
  {
   "cell_type": "code",
   "execution_count": null,
   "id": "59a50023",
   "metadata": {},
   "outputs": [],
   "source": [
    "#Define if the pytorch will use cpu or gpu to training\n",
    "device = 'cuda' if torch.cuda.is_available() else 'cpu'\n",
    "print(f'Using {device} device')"
   ]
  },
  {
   "cell_type": "code",
   "execution_count": null,
   "id": "dfe394df",
   "metadata": {},
   "outputs": [],
   "source": [
    "# conv1 = nn.Conv2d(3, 32, 32)\n",
    "# conv2 = nn.Conv2d(32, 8, 8)\n",
    "# pool = nn.MaxPool2d(2, 2)\n",
    "\n",
    "# a = pool(F.relu(conv1(train_features)))\n",
    "# pool(F.relu(conv1(train_features))).shape\n",
    "\n",
    "# pool(F.relu(conv2(a))).shape"
   ]
  },
  {
   "cell_type": "code",
   "execution_count": null,
   "id": "1054d35e",
   "metadata": {},
   "outputs": [],
   "source": [
    "#Define the network class architecture\n",
    "\n",
    "class Net(nn.Module):\n",
    "    def __init__(self):\n",
    "        super().__init__()\n",
    "        self.conv1 = nn.Conv2d(3, 32, 32)\n",
    "        self.pool = nn.MaxPool2d(2, 2)\n",
    "        self.conv2 = nn.Conv2d(32, 8, 8)\n",
    "        self.fc1 = nn.Linear(8 * 44 * 44, 120)\n",
    "        self.fc2 = nn.Linear(120, 84)\n",
    "        self.fc3 = nn.Linear(84, num_classes)\n",
    "        \n",
    "    def forward(self, x):\n",
    "        x = self.pool(F.relu(self.conv1(x)))\n",
    "        x = self.pool(F.relu(self.conv2(x)))\n",
    "        x = torch.flatten(x, 1) # flatten all dimensions except batch\n",
    "        x = F.relu(self.fc1(x))\n",
    "        x = F.relu(self.fc2(x))\n",
    "        x = self.fc3(x)\n",
    "        return x"
   ]
  },
  {
   "cell_type": "code",
   "execution_count": null,
   "id": "a668ffed",
   "metadata": {},
   "outputs": [],
   "source": [
    "model = Net()"
   ]
  },
  {
   "cell_type": "markdown",
   "id": "da7120f2",
   "metadata": {},
   "source": [
    "## Define the loss function"
   ]
  },
  {
   "cell_type": "code",
   "execution_count": null,
   "id": "4be5d6ad",
   "metadata": {},
   "outputs": [],
   "source": [
    "import torch.optim as optim\n",
    "\n",
    "criterion = nn.CrossEntropyLoss()\n",
    "optimizer = optim.SGD(model.parameters(), lr=0.001, momentum=0.9)"
   ]
  },
  {
   "cell_type": "code",
   "execution_count": null,
   "id": "651273dc",
   "metadata": {},
   "outputs": [],
   "source": [
    "model.to(device)\n",
    "criterion.to(device)"
   ]
  },
  {
   "cell_type": "markdown",
   "id": "674def8f",
   "metadata": {},
   "source": [
    "## Training the network"
   ]
  },
  {
   "cell_type": "markdown",
   "id": "3cd45d68",
   "metadata": {},
   "source": [
    "https://pytorch.org/tutorials/beginner/blitz/cifar10_tutorial.html"
   ]
  },
  {
   "cell_type": "code",
   "execution_count": null,
   "id": "3c2fed6f",
   "metadata": {},
   "outputs": [],
   "source": [
    "for epoch in range(2):  # loop over the dataset multiple times\n",
    "\n",
    "    running_loss = 0.0\n",
    "    for i, data in enumerate(train_dataloader, 0):\n",
    "        # get the inputs; data is a list of [inputs, labels]\n",
    "        inputs, labels = data\n",
    "\n",
    "        # zero the parameter gradients\n",
    "        optimizer.zero_grad()\n",
    "\n",
    "        # forward + backward + optimize\n",
    "        outputs = model(inputs.to(device))\n",
    "        loss = criterion(outputs.to(device), labels.to(device))\n",
    "        loss.backward()\n",
    "        optimizer.step()\n",
    "\n",
    "        # print statistics\n",
    "        running_loss += loss.item()\n",
    "        if i % 2 == 0:    # print every mini-batches\n",
    "            print(f'[{epoch + 1}, {i + 1:5d}] loss: {running_loss / 2000:.3f}')\n",
    "            running_loss = 0.0\n",
    "\n",
    "print('Finished Training')"
   ]
  },
  {
   "cell_type": "code",
   "execution_count": null,
   "id": "bca0392c",
   "metadata": {},
   "outputs": [],
   "source": [
    "PATH = './chess_model.pth'\n",
    "torch.save(model.state_dict(), PATH)"
   ]
  },
  {
   "cell_type": "code",
   "execution_count": null,
   "id": "7c29d691",
   "metadata": {},
   "outputs": [],
   "source": [
    "# test_images = os.listdir(f\"{image_path}/{list_classes[0]}/\")\n",
    "\n",
    "# training_dataset = ImageDataset(list_classes, image_path)\n",
    "# training_dataset.__len__()"
   ]
  },
  {
   "cell_type": "markdown",
   "id": "c2cccca7",
   "metadata": {},
   "source": [
    "## Predict image"
   ]
  },
  {
   "cell_type": "code",
   "execution_count": null,
   "id": "5eeb4024",
   "metadata": {},
   "outputs": [],
   "source": [
    "import matplotlib.pyplot as plt"
   ]
  },
  {
   "cell_type": "code",
   "execution_count": null,
   "id": "a83cd36e",
   "metadata": {},
   "outputs": [],
   "source": [
    "model = Net()\n",
    "model.load_state_dict(torch.load(PATH))\n",
    "model.eval()"
   ]
  },
  {
   "cell_type": "code",
   "execution_count": 40,
   "id": "18252ed0",
   "metadata": {},
   "outputs": [],
   "source": [
    "img = read_image('image.jpg')"
   ]
  },
  {
   "cell_type": "code",
   "execution_count": null,
   "id": "012afac4",
   "metadata": {},
   "outputs": [],
   "source": [
    "# unsqueeze provides the batch dimension\n",
    "img_tensor = transform(img).to('cuda').unsqueeze(0)"
   ]
  },
  {
   "cell_type": "code",
   "execution_count": null,
   "id": "d9daa1d2",
   "metadata": {},
   "outputs": [],
   "source": [
    "tensor_image = img_tensor.view(img_tensor.shape[3], img_tensor.shape[2], img_tensor.shape[1])\n",
    "print(type(tensor_image), tensor_image.shape)"
   ]
  },
  {
   "cell_type": "code",
   "execution_count": null,
   "id": "3c5797ab",
   "metadata": {},
   "outputs": [],
   "source": [
    "plt.imshow(tensor_image.to('cpu'))"
   ]
  },
  {
   "cell_type": "code",
   "execution_count": null,
   "id": "fe469258",
   "metadata": {},
   "outputs": [],
   "source": [
    "prediction = model(img_tensor)"
   ]
  },
  {
   "cell_type": "code",
   "execution_count": null,
   "id": "00b3089a",
   "metadata": {},
   "outputs": [],
   "source": [
    "predicted_class = np.argmax(prediction[0].to('cpu').detach().numpy())\n",
    "predicted_class"
   ]
  },
  {
   "cell_type": "code",
   "execution_count": null,
   "id": "ae4279c1",
   "metadata": {},
   "outputs": [],
   "source": [
    "list_classes[1]"
   ]
  },
  {
   "cell_type": "code",
   "execution_count": null,
   "id": "e6b09d19",
   "metadata": {},
   "outputs": [],
   "source": [
    "len(list_classes)"
   ]
  }
 ],
 "metadata": {
  "kernelspec": {
   "display_name": "Python 3 (ipykernel)",
   "language": "python",
   "name": "python3"
  },
  "language_info": {
   "codemirror_mode": {
    "name": "ipython",
    "version": 3
   },
   "file_extension": ".py",
   "mimetype": "text/x-python",
   "name": "python",
   "nbconvert_exporter": "python",
   "pygments_lexer": "ipython3",
   "version": "3.8.8"
  }
 },
 "nbformat": 4,
 "nbformat_minor": 5
}
