{
 "cells": [
  {
   "cell_type": "code",
   "execution_count": 1,
   "id": "169c37d5",
   "metadata": {},
   "outputs": [],
   "source": [
    "#Import librarys\n",
    "import os\n",
    "\n",
    "import torch\n",
    "from torch.utils.data import DataLoader\n",
    "\n",
    "from torchvision import datasets\n",
    "from torchvision.io import read_image\n",
    "from torchvision.transforms import ToTensor\n",
    "\n",
    "import torchvision.transforms as transforms\n",
    "from torchvision import models\n",
    "\n",
    "from torch.utils.data import Dataset\n",
    "\n",
    "import numpy as np"
   ]
  },
  {
   "cell_type": "code",
   "execution_count": 2,
   "id": "72c111c7",
   "metadata": {},
   "outputs": [],
   "source": [
    "#Locale where the imagens stay\n",
    "image_path = 'images/'\n",
    "\n",
    "#Getting the list of classes (considering each fold at \"image_path\" like a class)\n",
    "list_classes = [f for f in os.listdir(image_path)]\n",
    "\n",
    "num_classes = len(list_classes)\n",
    "\n",
    "img_size = 224"
   ]
  },
  {
   "cell_type": "code",
   "execution_count": 4,
   "id": "8fafa831",
   "metadata": {},
   "outputs": [],
   "source": [
    "#Data Transfor (Normalize the image values)\n",
    "transform = transforms.Compose(\n",
    "    [transforms.ToPILImage(),\n",
    "     transforms.RandomHorizontalFlip(p=0.5),\n",
    "     transforms.RandAugment(),\n",
    "     transforms.Resize((img_size, img_size)),\n",
    "     transforms.ToTensor(),\n",
    "     transforms.Normalize((0.5), (0.5))])"
   ]
  },
  {
   "cell_type": "code",
   "execution_count": 5,
   "id": "e0b8a61b",
   "metadata": {},
   "outputs": [],
   "source": [
    "#Creating the class rensposable to load the imagens\n",
    "class ImageDataset(Dataset):\n",
    "    def __init__(self, list_classes, img_dir, transform=None, target_transform=None, remove_broken_images=False):\n",
    "        \"\"\"\n",
    "        Define where the images stay, the classes of imagens and transformations that will be aplied.\n",
    "        \"\"\"\n",
    "        #Creating the class variables\n",
    "        self.list_classes = list_classes\n",
    "        self.img_dir = img_dir\n",
    "        self.transform = transform\n",
    "        self.target_transform = target_transform\n",
    "        self.remove_broken_images = remove_broken_images\n",
    "        \n",
    "        self.avaliable_images = []\n",
    "        self.imagens = []\n",
    "        \n",
    "        #Loop for each class\n",
    "        for select_class in self.list_classes:\n",
    "            \n",
    "            self.__imagens_in_folds__(select_class)\n",
    "\n",
    "        \n",
    "    def __len__(self):\n",
    "        \"\"\"\n",
    "        Return the number of images (dataset size), this number are utilized\n",
    "        in DataLoader to shuffle the data (to how how numbers can be selected).\n",
    "        \"\"\"\n",
    "        return len(self.imagens)\n",
    "    \n",
    "    def __getitem__(self, idx):\n",
    "        \"\"\"\n",
    "        Return a image and yout label.\n",
    "        \"\"\"\n",
    "        select_sample = self.imagens[idx]\n",
    "\n",
    "        select_class, image_path = select_sample.split('_')\n",
    "        class_path = f\"{self.img_dir}/{select_class}/\"\n",
    "        \n",
    "        image = read_image(f\"{class_path}{image_path}\")\n",
    "        label = list_classes.index(select_class)\n",
    "        anchor_tensor = torch.zeros(3,img_size,img_size)\n",
    "        \n",
    "        if self.transform:\n",
    "                 \n",
    "            #Images with more that 3 channels are converted to 3 channel\n",
    "            if image.shape[0] > anchor_tensor.shape[0]:\n",
    "                image = torch.tensor(np.stack((image[0],image[1],image[2])))\n",
    "                \n",
    "            #Images less than 3 channel have the information triplicated\n",
    "            else:\n",
    "                image = torch.tensor(np.stack((image[0],image[0],image[0])))\n",
    "\n",
    "            image = self.transform(image)\n",
    "    \n",
    "        if self.target_transform:\n",
    "            label = self.target_transform(label)\n",
    "        \n",
    "        return image, label\n",
    "    \n",
    "    def __imagens_in_folds__(self, select_class):\n",
    "        #Path with original fold and class\n",
    "        class_path = f\"{self.img_dir}{select_class}/\"\n",
    "        \n",
    "        images_in_fold = os.listdir(f\"{class_path}/\")\n",
    "        \n",
    "        #Add at the list \"class name\"_\"image name\"\n",
    "        [self.imagens.append(f\"{select_class}_{image}\") for image in images_in_fold]"
   ]
  },
  {
   "cell_type": "code",
   "execution_count": 7,
   "id": "52798fb2",
   "metadata": {},
   "outputs": [],
   "source": [
    "#Instancin the dataset (giving the fold with images and list of classes)\n",
    "remove_broken_images=True\n",
    "training_dataset = ImageDataset(list_classes, image_path, transform, remove_broken_images=remove_broken_images)"
   ]
  },
  {
   "cell_type": "code",
   "execution_count": 8,
   "id": "9144d3cd",
   "metadata": {},
   "outputs": [],
   "source": [
    "#Testing the return of size the dataset\n",
    "assert type(training_dataset.__len__()) == int, \"The len must be a integer\""
   ]
  },
  {
   "cell_type": "code",
   "execution_count": 9,
   "id": "df0c90c4",
   "metadata": {},
   "outputs": [],
   "source": [
    "#Testing the return of datalaoder (two itens)\n",
    "assert len(training_dataset.__getitem__(1)) == 2, \"The return must by have 2 itens\""
   ]
  },
  {
   "cell_type": "code",
   "execution_count": 10,
   "id": "ecb6e77f",
   "metadata": {},
   "outputs": [],
   "source": [
    "#Testing images with ore than 3 channels 9only use the first 3\n",
    "assert len(training_dataset.__getitem__(6)) == 2, \"The return must by have 2 itens\""
   ]
  },
  {
   "cell_type": "markdown",
   "id": "44250dae",
   "metadata": {},
   "source": [
    "## Creating a DataLoader"
   ]
  },
  {
   "cell_type": "code",
   "execution_count": 13,
   "id": "7f293367",
   "metadata": {},
   "outputs": [],
   "source": [
    "train_dataloader = DataLoader(training_dataset, batch_size=32, shuffle=True)"
   ]
  },
  {
   "cell_type": "code",
   "execution_count": 14,
   "id": "e4fc500b",
   "metadata": {},
   "outputs": [],
   "source": [
    "train_features, train_labels = next(iter(train_dataloader))"
   ]
  },
  {
   "cell_type": "code",
   "execution_count": null,
   "id": "a7caa390",
   "metadata": {},
   "outputs": [],
   "source": []
  },
  {
   "cell_type": "markdown",
   "id": "a7c8d281",
   "metadata": {},
   "source": [
    "## Creating the Network"
   ]
  },
  {
   "cell_type": "code",
   "execution_count": 15,
   "id": "d0110c63",
   "metadata": {},
   "outputs": [],
   "source": [
    "import torch.nn as nn\n",
    "import torch.nn.functional as F"
   ]
  },
  {
   "cell_type": "code",
   "execution_count": 16,
   "id": "59a50023",
   "metadata": {},
   "outputs": [
    {
     "name": "stdout",
     "output_type": "stream",
     "text": [
      "Using cuda device\n"
     ]
    }
   ],
   "source": [
    "#Define if the pytorch will use cpu or gpu to training\n",
    "device = 'cuda' if torch.cuda.is_available() else 'cpu'\n",
    "print(f'Using {device} device')"
   ]
  },
  {
   "cell_type": "code",
   "execution_count": 19,
   "id": "3915d74b",
   "metadata": {},
   "outputs": [],
   "source": [
    "def GetModel():\n",
    "    model = models.vgg16(pretrained=True)\n",
    "\n",
    "    for param in model.parameters():\n",
    "        param.requires_grad = False\n",
    "\n",
    "    model.avgpool = nn.AdaptiveAvgPool2d(output_size=(1,1))\n",
    "\n",
    "    model.classifier = nn.Sequential(\n",
    "        nn.Flatten(),\n",
    "        nn.Linear(512, 256),nn.ReLU(inplace=True),\n",
    "        nn.Linear(256, 128),nn.ReLU(inplace=True),\n",
    "        nn.Linear(128, 64),nn.ReLU(inplace=True),\n",
    "        nn.Linear(64, num_classes))\n",
    "\n",
    "    optimizer = torch.optim.Adam(model.parameters(), lr=1e-3)\n",
    "\n",
    "    return(model.to(device), optimizer)"
   ]
  },
  {
   "cell_type": "code",
   "execution_count": 20,
   "id": "c9f1d7a5",
   "metadata": {},
   "outputs": [],
   "source": []
  },
  {
   "cell_type": "markdown",
   "id": "da7120f2",
   "metadata": {},
   "source": [
    "## Define the loss function"
   ]
  },
  {
   "cell_type": "code",
   "execution_count": 22,
   "id": "4be5d6ad",
   "metadata": {},
   "outputs": [],
   "source": [
    "import torch.optim as optim\n",
    "\n",
    "#Creating the model and the otimizer\n",
    "model, optimizer = GetModel()\n",
    "\n",
    "criterion = nn.CrossEntropyLoss()"
   ]
  },
  {
   "cell_type": "code",
   "execution_count": 23,
   "id": "651273dc",
   "metadata": {},
   "outputs": [
    {
     "data": {
      "text/plain": [
       "CrossEntropyLoss()"
      ]
     },
     "execution_count": 23,
     "metadata": {},
     "output_type": "execute_result"
    }
   ],
   "source": [
    "#Sending to device the model and criterion\n",
    "model.to(device)\n",
    "criterion.to(device)"
   ]
  },
  {
   "cell_type": "markdown",
   "id": "674def8f",
   "metadata": {},
   "source": [
    "## Training the network"
   ]
  },
  {
   "cell_type": "markdown",
   "id": "3cd45d68",
   "metadata": {},
   "source": [
    "https://pytorch.org/tutorials/beginner/blitz/cifar10_tutorial.html"
   ]
  },
  {
   "cell_type": "code",
   "execution_count": 24,
   "id": "3c2fed6f",
   "metadata": {},
   "outputs": [
    {
     "name": "stdout",
     "output_type": "stream",
     "text": [
      "[1,     1] loss: 0.001\n",
      "[1,    11] loss: 0.008\n",
      "[1,    21] loss: 0.008\n",
      "[2,     1] loss: 0.001\n",
      "[2,    11] loss: 0.007\n",
      "[2,    21] loss: 0.006\n",
      "[3,     1] loss: 0.000\n",
      "[3,    11] loss: 0.005\n",
      "[3,    21] loss: 0.005\n",
      "[4,     1] loss: 0.000\n",
      "[4,    11] loss: 0.004\n",
      "[4,    21] loss: 0.004\n",
      "[5,     1] loss: 0.000\n",
      "[5,    11] loss: 0.004\n",
      "[5,    21] loss: 0.004\n",
      "[6,     1] loss: 0.000\n",
      "[6,    11] loss: 0.004\n",
      "[6,    21] loss: 0.003\n",
      "[7,     1] loss: 0.000\n",
      "[7,    11] loss: 0.003\n",
      "[7,    21] loss: 0.003\n",
      "[8,     1] loss: 0.000\n",
      "[8,    11] loss: 0.003\n",
      "[8,    21] loss: 0.003\n",
      "[9,     1] loss: 0.000\n",
      "[9,    11] loss: 0.003\n",
      "[9,    21] loss: 0.003\n",
      "[10,     1] loss: 0.000\n",
      "[10,    11] loss: 0.003\n",
      "[10,    21] loss: 0.002\n",
      "[11,     1] loss: 0.000\n",
      "[11,    11] loss: 0.002\n",
      "[11,    21] loss: 0.003\n",
      "[12,     1] loss: 0.000\n",
      "[12,    11] loss: 0.002\n",
      "[12,    21] loss: 0.002\n",
      "[13,     1] loss: 0.000\n",
      "[13,    11] loss: 0.002\n",
      "[13,    21] loss: 0.002\n",
      "[14,     1] loss: 0.000\n",
      "[14,    11] loss: 0.002\n",
      "[14,    21] loss: 0.002\n",
      "[15,     1] loss: 0.000\n",
      "[15,    11] loss: 0.002\n",
      "[15,    21] loss: 0.002\n",
      "[16,     1] loss: 0.000\n",
      "[16,    11] loss: 0.002\n",
      "[16,    21] loss: 0.002\n",
      "[17,     1] loss: 0.000\n",
      "[17,    11] loss: 0.002\n",
      "[17,    21] loss: 0.002\n",
      "[18,     1] loss: 0.000\n",
      "[18,    11] loss: 0.001\n",
      "[18,    21] loss: 0.002\n",
      "[19,     1] loss: 0.000\n",
      "[19,    11] loss: 0.001\n",
      "[19,    21] loss: 0.001\n",
      "[20,     1] loss: 0.000\n",
      "[20,    11] loss: 0.002\n",
      "[20,    21] loss: 0.002\n",
      "Finished Training\n"
     ]
    }
   ],
   "source": [
    "for epoch in range(20):  # loop over the dataset multiple times\n",
    "\n",
    "    running_loss = 0.0\n",
    "    for i, data in enumerate(train_dataloader, 0):\n",
    "        # get the inputs; data is a list of [inputs, labels]\n",
    "        inputs, labels = data\n",
    "\n",
    "        # zero the parameter gradients\n",
    "        optimizer.zero_grad()\n",
    "\n",
    "        # forward + backward + optimize\n",
    "        outputs = model(inputs.to(device))\n",
    "        loss = criterion(outputs.to(device), labels.to(device))\n",
    "        loss.backward()\n",
    "        optimizer.step()\n",
    "\n",
    "        # print statistics\n",
    "        running_loss += loss.item()\n",
    "        if i % 10 == 0:    # print every mini-batches\n",
    "            print(f'[{epoch + 1}, {i + 1:5d}] loss: {running_loss / 2000:.3f}')\n",
    "            running_loss = 0.0\n",
    "\n",
    "print('Finished Training')"
   ]
  },
  {
   "cell_type": "code",
   "execution_count": 25,
   "id": "bca0392c",
   "metadata": {},
   "outputs": [],
   "source": [
    "model.eval()\n",
    "PATH = './chess_model.pth'\n",
    "torch.save(model.state_dict(), PATH)"
   ]
  },
  {
   "cell_type": "markdown",
   "id": "c2cccca7",
   "metadata": {},
   "source": [
    "## Predict image"
   ]
  },
  {
   "cell_type": "code",
   "execution_count": 27,
   "id": "5eeb4024",
   "metadata": {},
   "outputs": [],
   "source": [
    "import matplotlib.pyplot as plt"
   ]
  },
  {
   "cell_type": "code",
   "execution_count": 29,
   "id": "a83cd36e",
   "metadata": {},
   "outputs": [
    {
     "data": {
      "text/plain": [
       "VGG(\n",
       "  (features): Sequential(\n",
       "    (0): Conv2d(3, 64, kernel_size=(3, 3), stride=(1, 1), padding=(1, 1))\n",
       "    (1): ReLU(inplace=True)\n",
       "    (2): Conv2d(64, 64, kernel_size=(3, 3), stride=(1, 1), padding=(1, 1))\n",
       "    (3): ReLU(inplace=True)\n",
       "    (4): MaxPool2d(kernel_size=2, stride=2, padding=0, dilation=1, ceil_mode=False)\n",
       "    (5): Conv2d(64, 128, kernel_size=(3, 3), stride=(1, 1), padding=(1, 1))\n",
       "    (6): ReLU(inplace=True)\n",
       "    (7): Conv2d(128, 128, kernel_size=(3, 3), stride=(1, 1), padding=(1, 1))\n",
       "    (8): ReLU(inplace=True)\n",
       "    (9): MaxPool2d(kernel_size=2, stride=2, padding=0, dilation=1, ceil_mode=False)\n",
       "    (10): Conv2d(128, 256, kernel_size=(3, 3), stride=(1, 1), padding=(1, 1))\n",
       "    (11): ReLU(inplace=True)\n",
       "    (12): Conv2d(256, 256, kernel_size=(3, 3), stride=(1, 1), padding=(1, 1))\n",
       "    (13): ReLU(inplace=True)\n",
       "    (14): Conv2d(256, 256, kernel_size=(3, 3), stride=(1, 1), padding=(1, 1))\n",
       "    (15): ReLU(inplace=True)\n",
       "    (16): MaxPool2d(kernel_size=2, stride=2, padding=0, dilation=1, ceil_mode=False)\n",
       "    (17): Conv2d(256, 512, kernel_size=(3, 3), stride=(1, 1), padding=(1, 1))\n",
       "    (18): ReLU(inplace=True)\n",
       "    (19): Conv2d(512, 512, kernel_size=(3, 3), stride=(1, 1), padding=(1, 1))\n",
       "    (20): ReLU(inplace=True)\n",
       "    (21): Conv2d(512, 512, kernel_size=(3, 3), stride=(1, 1), padding=(1, 1))\n",
       "    (22): ReLU(inplace=True)\n",
       "    (23): MaxPool2d(kernel_size=2, stride=2, padding=0, dilation=1, ceil_mode=False)\n",
       "    (24): Conv2d(512, 512, kernel_size=(3, 3), stride=(1, 1), padding=(1, 1))\n",
       "    (25): ReLU(inplace=True)\n",
       "    (26): Conv2d(512, 512, kernel_size=(3, 3), stride=(1, 1), padding=(1, 1))\n",
       "    (27): ReLU(inplace=True)\n",
       "    (28): Conv2d(512, 512, kernel_size=(3, 3), stride=(1, 1), padding=(1, 1))\n",
       "    (29): ReLU(inplace=True)\n",
       "    (30): MaxPool2d(kernel_size=2, stride=2, padding=0, dilation=1, ceil_mode=False)\n",
       "  )\n",
       "  (avgpool): AdaptiveAvgPool2d(output_size=(1, 1))\n",
       "  (classifier): Sequential(\n",
       "    (0): Flatten(start_dim=1, end_dim=-1)\n",
       "    (1): Linear(in_features=512, out_features=256, bias=True)\n",
       "    (2): ReLU(inplace=True)\n",
       "    (3): Linear(in_features=256, out_features=128, bias=True)\n",
       "    (4): ReLU(inplace=True)\n",
       "    (5): Linear(in_features=128, out_features=64, bias=True)\n",
       "    (6): ReLU(inplace=True)\n",
       "    (7): Linear(in_features=64, out_features=5, bias=True)\n",
       "  )\n",
       ")"
      ]
     },
     "execution_count": 29,
     "metadata": {},
     "output_type": "execute_result"
    }
   ],
   "source": [
    "model, optimizer = GetModel()\n",
    "model.load_state_dict(torch.load(PATH))\n",
    "model.eval()"
   ]
  },
  {
   "cell_type": "code",
   "execution_count": 40,
   "id": "18252ed0",
   "metadata": {},
   "outputs": [],
   "source": [
    "img = read_image('cavalo.jpg')"
   ]
  },
  {
   "cell_type": "code",
   "execution_count": 41,
   "id": "91aef062",
   "metadata": {},
   "outputs": [
    {
     "data": {
      "text/plain": [
       "<matplotlib.image.AxesImage at 0x1a1217a6c70>"
      ]
     },
     "execution_count": 41,
     "metadata": {},
     "output_type": "execute_result"
    },
    {
     "data": {
      "image/png": "[encoded data removed]",
      "text/plain": [
       "<Figure size 432x288 with 1 Axes>"
      ]
     },
     "metadata": {
      "needs_background": "light"
     },
     "output_type": "display_data"
    }
   ],
   "source": [
    "plt.imshow(img.permute(1, 2, 0))"
   ]
  },
  {
   "cell_type": "code",
   "execution_count": 42,
   "id": "012afac4",
   "metadata": {},
   "outputs": [],
   "source": [
    "# unsqueeze provides the batch dimension\n",
    "img_tensor = transform(img).to('cuda').unsqueeze(0)"
   ]
  },
  {
   "cell_type": "code",
   "execution_count": 43,
   "id": "b80fb6e8",
   "metadata": {},
   "outputs": [
    {
     "name": "stderr",
     "output_type": "stream",
     "text": [
      "Clipping input data to the valid range for imshow with RGB data ([0..1] for floats or [0..255] for integers).\n"
     ]
    },
    {
     "data": {
      "text/plain": [
       "<matplotlib.image.AxesImage at 0x1a12568a940>"
      ]
     },
     "execution_count": 43,
     "metadata": {},
     "output_type": "execute_result"
    },
    {
     "data": {
      "image/png": "[encoded data removed]",
      "text/plain": [
       "<Figure size 432x288 with 1 Axes>"
      ]
     },
     "metadata": {
      "needs_background": "light"
     },
     "output_type": "display_data"
    }
   ],
   "source": [
    "img2 = transform(img)\n",
    "plt.imshow(img2.permute(1, 2, 0))"
   ]
  },
  {
   "cell_type": "code",
   "execution_count": 44,
   "id": "fe469258",
   "metadata": {},
   "outputs": [],
   "source": [
    "prediction = model(img2.unsqueeze(0).to('cuda'))"
   ]
  },
  {
   "cell_type": "code",
   "execution_count": 45,
   "id": "da3ed355",
   "metadata": {},
   "outputs": [
    {
     "data": {
      "text/plain": [
       "tensor([[ 0.3010,  5.0705, -3.1870, -2.1984,  0.1805]], device='cuda:0',\n",
       "       grad_fn=<AddmmBackward0>)"
      ]
     },
     "execution_count": 45,
     "metadata": {},
     "output_type": "execute_result"
    }
   ],
   "source": [
    "prediction"
   ]
  },
  {
   "cell_type": "code",
   "execution_count": 46,
   "id": "00b3089a",
   "metadata": {},
   "outputs": [
    {
     "data": {
      "text/plain": [
       "1"
      ]
     },
     "execution_count": 46,
     "metadata": {},
     "output_type": "execute_result"
    }
   ],
   "source": [
    "predicted_class = np.argmax(prediction[0].to('cpu').detach().numpy())\n",
    "predicted_class"
   ]
  },
  {
   "cell_type": "code",
   "execution_count": 48,
   "id": "ae4279c1",
   "metadata": {},
   "outputs": [
    {
     "data": {
      "text/plain": [
       "'KnightImages'"
      ]
     },
     "execution_count": 48,
     "metadata": {},
     "output_type": "execute_result"
    }
   ],
   "source": [
    "list_classes[predicted_class]"
   ]
  }
 ],
 "metadata": {
  "kernelspec": {
   "display_name": "Python 3 (ipykernel)",
   "language": "python",
   "name": "python3"
  },
  "language_info": {
   "codemirror_mode": {
    "name": "ipython",
    "version": 3
   },
   "file_extension": ".py",
   "mimetype": "text/x-python",
   "name": "python",
   "nbconvert_exporter": "python",
   "pygments_lexer": "ipython3",
   "version": "3.8.8"
  }
 },
 "nbformat": 4,
 "nbformat_minor": 5
}
